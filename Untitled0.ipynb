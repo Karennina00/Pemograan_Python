{
  "nbformat": 4,
  "nbformat_minor": 0,
  "metadata": {
    "colab": {
      "name": "Untitled0.ipynb",
      "provenance": [],
      "authorship_tag": "ABX9TyPwUTEM1aY8NBTqB9XLj13t",
      "include_colab_link": true
    },
    "kernelspec": {
      "name": "python3",
      "display_name": "Python 3"
    }
  },
  "cells": [
    {
      "cell_type": "markdown",
      "metadata": {
        "id": "view-in-github",
        "colab_type": "text"
      },
      "source": [
        "<a href=\"https://colab.research.google.com/github/Karennina00/Pemograan_Python/blob/main/Untitled0.ipynb\" target=\"_parent\"><img src=\"https://colab.research.google.com/assets/colab-badge.svg\" alt=\"Open In Colab\"/></a>"
      ]
    },
    {
      "cell_type": "code",
      "metadata": {
        "id": "EzK84Mgg7Fby"
      },
      "source": [
        "import numpy as np"
      ],
      "execution_count": 9,
      "outputs": []
    },
    {
      "cell_type": "code",
      "metadata": {
        "id": "rWQWTXjx7GPi"
      },
      "source": [
        "NtL = lambda x: 10*np.log10(x)"
      ],
      "execution_count": 10,
      "outputs": []
    },
    {
      "cell_type": "code",
      "metadata": {
        "colab": {
          "base_uri": "https://localhost:8080/"
        },
        "id": "yU-196J47LTh",
        "outputId": "f4a32fa5-4b0c-45bf-dd31-ffbf40069d35"
      },
      "source": [
        "z=NtL(15)\r\n",
        "print(z)"
      ],
      "execution_count": 11,
      "outputs": [
        {
          "output_type": "stream",
          "text": [
            "11.760912590556813\n"
          ],
          "name": "stdout"
        }
      ]
    },
    {
      "cell_type": "code",
      "metadata": {
        "id": "Z_BgROMh7Nmi"
      },
      "source": [
        "LtN = lambda x: 10**(x/10)"
      ],
      "execution_count": 12,
      "outputs": []
    },
    {
      "cell_type": "code",
      "metadata": {
        "colab": {
          "base_uri": "https://localhost:8080/"
        },
        "id": "QNNbQFr87P_L",
        "outputId": "df40ad50-f3ec-4122-a40d-50fcfb815ad9"
      },
      "source": [
        "y=LtN(50)\r\n",
        "print(y)"
      ],
      "execution_count": 13,
      "outputs": [
        {
          "output_type": "stream",
          "text": [
            "100000.0\n"
          ],
          "name": "stdout"
        }
      ]
    },
    {
      "cell_type": "code",
      "metadata": {
        "colab": {
          "base_uri": "https://localhost:8080/"
        },
        "id": "sisD1VGq7S9E",
        "outputId": "8561fab7-1005-4cd5-c0cc-3843d9ad0e07"
      },
      "source": [
        "Lp = 69.55  + (26.16*np.log10(700)) - (13.83*np.log10(50)) - ((((1.1*np.log10(700))-0.7)*10) - ((1.56*np.log10(700))-0.8)) + ((44.9-(6.55*np.log10(50)))*np.log10(1)) + 0\r\n",
        "print(Lp)"
      ],
      "execution_count": 14,
      "outputs": [
        {
          "output_type": "stream",
          "text": [
            "99.82328406907124\n"
          ],
          "name": "stdout"
        }
      ]
    },
    {
      "cell_type": "code",
      "metadata": {
        "id": "ndx0smzA7TFV"
      },
      "source": [
        "def ploss (d, f, cm, ht, hr):\r\n",
        "  pldb= 69.55 + (26.16*np.log10(f)) - (13.83*np.log10(ht)) - ((((1.1*np.log10(f)) - 0.7) * hr) - ((1.56*np.log10(f)) - 0.8)) + ((44.9 - (6.55*np.log10(ht)))*np.log10(d)) + cm\r\n",
        "  plnum=LtN(-pldb)\r\n",
        "  return pldb,plnum"
      ],
      "execution_count": 15,
      "outputs": []
    },
    {
      "cell_type": "code",
      "metadata": {
        "colab": {
          "base_uri": "https://localhost:8080/"
        },
        "id": "9Eqeo0Pg7Yna",
        "outputId": "7496087f-cec1-40b4-deb8-ae8d3023b383"
      },
      "source": [
        "pathlossdb, pathlossnum = ploss(1, 700, 0, 50, 10)\r\n",
        "print(\"pathloss dalam db =\",pathlossdb,\"dB\")\r\n",
        "print(\"pathloss dalam numerik =\",pathlossnum,\"kali\")"
      ],
      "execution_count": 16,
      "outputs": [
        {
          "output_type": "stream",
          "text": [
            "pathloss dalam db = 99.82328406907124 dB\n",
            "pathloss dalam numerik = 1.0415295426771204e-10 kali\n"
          ],
          "name": "stdout"
        }
      ]
    }
  ]
}