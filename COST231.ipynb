{
  "nbformat": 4,
  "nbformat_minor": 0,
  "metadata": {
    "colab": {
      "name": "COST231.ipynb",
      "provenance": [],
      "include_colab_link": true
    },
    "kernelspec": {
      "name": "python3",
      "display_name": "Python 3"
    }
  },
  "cells": [
    {
      "cell_type": "markdown",
      "metadata": {
        "id": "view-in-github",
        "colab_type": "text"
      },
      "source": [
        "<a href=\"https://colab.research.google.com/github/Karennina00/Pemograan_Python/blob/main/COST231.ipynb\" target=\"_parent\"><img src=\"https://colab.research.google.com/assets/colab-badge.svg\" alt=\"Open In Colab\"/></a>"
      ]
    },
    {
      "cell_type": "code",
      "metadata": {
        "id": "ruHX9Pf-Feo2"
      },
      "source": [
        "import numpy as np\r\n",
        "import matplotlib.pyplot as plt"
      ],
      "execution_count": 16,
      "outputs": []
    },
    {
      "cell_type": "markdown",
      "metadata": {
        "id": "IPAK-uPOGmT9"
      },
      "source": [
        ""
      ]
    },
    {
      "cell_type": "code",
      "metadata": {
        "id": "RLhMQKafFlyn"
      },
      "source": [
        "def cos(frek,tipe,ht,hr,d):\r\n",
        "  #frek = frekuensi (MHz)\r\n",
        "  #tipe = urban, suburban, open\r\n",
        "  #ht = tinggi tower (meter)\r\n",
        "  #hr = tinggi user (meter)\r\n",
        "  #d = jarak (meter)\r\n",
        "    if frek in range(150,1501):\r\n",
        "        Ca=69.55\r\n",
        "        Cb=26.16\r\n",
        "    elif frek in range(1501,2001):\r\n",
        "        Ca=46.3\r\n",
        "        Cb=33.9\r\n",
        "    \r\n",
        "    if tipe=='urban' :\r\n",
        "        Cm=0\r\n",
        "    elif tipe=='suburban' :\r\n",
        "        Cm= -2*((np.log10((frek/28)**2))-5.4)\r\n",
        "    elif tipe=='open' :\r\n",
        "        Cm= -4.78*(np.log10(frek))+18.33*(np.log10(frek))-40.94\r\n",
        "    else :\r\n",
        "        Cm='tipe salah'\r\n",
        "    \r\n",
        "    ahr = (1.1*np.log10(frek)-0.7)*hr-(1.56*np.log10(frek)-1.8)\r\n",
        "    Lp = Ca+(Cb*np.log10(frek))-(13.83*np.log(ht))-ahr+((44.9-6.55*np.log10(ht))*np.log10(d))-Cm\r\n",
        "    \r\n",
        "    return Lp"
      ],
      "execution_count": 17,
      "outputs": []
    },
    {
      "cell_type": "markdown",
      "metadata": {
        "id": "uciqaziDG8DI"
      },
      "source": [
        "**Gambar 1**\r\n",
        "\r\n",
        "**Urban**"
      ]
    },
    {
      "cell_type": "code",
      "metadata": {
        "id": "rrEo-lfUHUFo"
      },
      "source": [
        "frek=1800\r\n",
        "loc='urban'\r\n",
        "ht=80\r\n",
        "hr=1.5\r\n",
        "dmin=200\r\n",
        "dmax=700\r\n",
        "N=200\r\n",
        "d=np.random.randint(dmin,dmax,N)"
      ],
      "execution_count": 18,
      "outputs": []
    },
    {
      "cell_type": "code",
      "metadata": {
        "id": "UefKU3y7HZH6"
      },
      "source": [
        "LpUrban= cos(frek,loc,ht,hr,d)"
      ],
      "execution_count": 19,
      "outputs": []
    },
    {
      "cell_type": "code",
      "metadata": {
        "id": "dwfwRugJIDv0"
      },
      "source": [
        "d_sort_urban = d[np.argsort(d)]\r\n",
        "Urban_sort = LpUrban[np.argsort(d)]"
      ],
      "execution_count": 20,
      "outputs": []
    },
    {
      "cell_type": "markdown",
      "metadata": {
        "id": "cD-kas-AIOFe"
      },
      "source": [
        "**Sub urban**"
      ]
    },
    {
      "cell_type": "code",
      "metadata": {
        "id": "k40dYs0eISnP"
      },
      "source": [
        "loc = 'suburban'\r\n",
        "LpSubUrban = cos(frek,loc,ht,hr,d)\r\n",
        "d_Sort_SubUrban = d[np.argsort(d)]\r\n",
        "Sub_Urban_Sort = LpSubUrban[np.argsort(d)]"
      ],
      "execution_count": 21,
      "outputs": []
    },
    {
      "cell_type": "markdown",
      "metadata": {
        "id": "h7om-LzVIef7"
      },
      "source": [
        "**Open**"
      ]
    },
    {
      "cell_type": "code",
      "metadata": {
        "id": "i8DtILrHIkNH"
      },
      "source": [
        "loc = 'open'\r\n",
        "LpOpen = cos(frek,loc,ht,hr,d)\r\n",
        "d_sort_open = d[np.argsort(d)]\r\n",
        "Open_sort = LpOpen[np.argsort(d)]"
      ],
      "execution_count": 22,
      "outputs": []
    },
    {
      "cell_type": "code",
      "metadata": {
        "id": "WTROGxWjIwKL",
        "outputId": "8ba6abde-4ee3-444d-fd69-fb27edad4bcc",
        "colab": {
          "base_uri": "https://localhost:8080/",
          "height": 295
        }
      },
      "source": [
        "plt.figure()\r\n",
        "plt.plot(d_sort_urban,Urban_sort,'b', label='Urban')\r\n",
        "plt.plot(d_Sort_SubUrban,Sub_Urban_Sort,'m', label='SubUrban')\r\n",
        "plt.plot(d_sort_open,Open_sort,'g', label='Open')\r\n",
        "plt.legend()\r\n",
        "plt.title(\"Frekuensi 1800 MHz\")\r\n",
        "plt.xlabel(\"Jarak (m)\")\r\n",
        "plt.ylabel(\"Path Loss (dB)\")\r\n",
        "plt.show()"
      ],
      "execution_count": 23,
      "outputs": [
        {
          "output_type": "display_data",
          "data": {
            "image/png": "[encoded data removed]",
            "text/plain": [
              "<Figure size 432x288 with 1 Axes>"
            ]
          },
          "metadata": {
            "tags": [],
            "needs_background": "light"
          }
        }
      ]
    },
    {
      "cell_type": "markdown",
      "metadata": {
        "id": "caNrdigvJBOQ"
      },
      "source": [
        "**Gambar 2**"
      ]
    },
    {
      "cell_type": "code",
      "metadata": {
        "id": "gZoQF07wJFzT"
      },
      "source": [
        "#700\r\n",
        "frek= 700\r\n",
        "loc='urban'\r\n",
        "ht=80 \r\n",
        "hr=1.5 \r\n",
        "dmin=200 \r\n",
        "dmax=700 \r\n",
        "N=200\r\n",
        "d=np.random.randint(dmin,dmax,N)\r\n",
        "Lp7 = cos(frek,loc,ht,hr,d)\r\n",
        "sort7 = d[np.argsort(d)]\r\n",
        "urban1= Lp7[np.argsort(d)]\r\n",
        "\r\n",
        "#900\r\n",
        "frek=900\r\n",
        "Lp9= cos(frek,loc,ht,hr,d)\r\n",
        "sort9 = d[np.argsort(d)]\r\n",
        "urban2 = Lp9[np.argsort(d)]\r\n",
        "\r\n",
        "#1800\r\n",
        "frek=1800\r\n",
        "Lp18 = cos(frek,loc,ht,hr,d)\r\n",
        "sort18= d[np.argsort(d)]\r\n",
        "urban3 = Lp18[np.argsort(d)]"
      ],
      "execution_count": 24,
      "outputs": []
    },
    {
      "cell_type": "code",
      "metadata": {
        "id": "CdHK1TfeJlgE",
        "outputId": "450a62b1-1d99-4fdd-8596-ae365f551444",
        "colab": {
          "base_uri": "https://localhost:8080/",
          "height": 295
        }
      },
      "source": [
        "plt.figure()\r\n",
        "plt.plot(sort7,urban1,'y', label=\"700 MHz\")\r\n",
        "plt.plot(sort9,urban2,'k', label = \"900 MHz\")\r\n",
        "plt.plot(sort18,urban3,'r', label=\"1800 MHz\")\r\n",
        "plt.legend()\r\n",
        "plt.title(\"Urban\")\r\n",
        "plt.xlabel(\"Jarak (m)\")\r\n",
        "plt.ylabel(\"Path Loss (dB)\")\r\n",
        "plt.show()"
      ],
      "execution_count": 25,
      "outputs": [
        {
          "output_type": "display_data",
          "data": {
            "image/png": "[encoded data removed]",
            "text/plain": [
              "<Figure size 432x288 with 1 Axes>"
            ]
          },
          "metadata": {
            "tags": [],
            "needs_background": "light"
          }
        }
      ]
    }
  ]
}